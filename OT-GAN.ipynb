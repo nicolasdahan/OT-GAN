{
  "nbformat": 4,
  "nbformat_minor": 0,
  "metadata": {
    "colab": {
      "name": "OT_GANs_28042021.ipynb",
      "provenance": [],
      "collapsed_sections": [
        "WCXI9IBcM6No",
        "mLMCdf_1NHCl",
        "zVOtft-GpNIN",
        "_RyBXMJezE2W",
        "bKg8gPp6vaD4",
        "7sCTUUNbktGt",
        "_fQrTajBeumS",
        "RcPYDMBQgdad",
        "SCzj14QkgkPn"
      ]
    },
    "kernelspec": {
      "name": "python3",
      "display_name": "Python 3"
    },
    "language_info": {
      "name": "python"
    },
    "accelerator": "GPU"
  },
  "cells": [
    {
      "cell_type": "markdown",
      "metadata": {
        "id": "WCXI9IBcM6No"
      },
      "source": [
        "# 1. Setting up the environment"
      ]
    },
    {
      "cell_type": "code",
      "metadata": {
        "colab": {
          "base_uri": "https://localhost:8080/"
        },
        "id": "zUqQUJrrWYa6",
        "outputId": "5080bc28-2619-482c-b6eb-37b4cd033fa0"
      },
      "source": [
        "!pip install pillow"
      ],
      "execution_count": null,
      "outputs": [
        {
          "output_type": "stream",
          "text": [
            "Requirement already satisfied: pillow in /usr/local/lib/python3.7/dist-packages (7.1.2)\n"
          ],
          "name": "stdout"
        }
      ]
    },
    {
      "cell_type": "code",
      "metadata": {
        "id": "UWxY9my_L-CI"
      },
      "source": [
        "import torch\n",
        "import torchvision\n",
        "import warnings\n",
        "\n",
        "warnings.filterwarnings('ignore')"
      ],
      "execution_count": null,
      "outputs": []
    },
    {
      "cell_type": "code",
      "metadata": {
        "colab": {
          "base_uri": "https://localhost:8080/"
        },
        "id": "awyEd1jbMmNh",
        "outputId": "4d56b9f5-d1c9-4cd9-f90b-d7e704f13071"
      },
      "source": [
        "print(torch.cuda.is_available())"
      ],
      "execution_count": null,
      "outputs": [
        {
          "output_type": "stream",
          "text": [
            "True\n"
          ],
          "name": "stdout"
        }
      ]
    },
    {
      "cell_type": "markdown",
      "metadata": {
        "id": "mLMCdf_1NHCl"
      },
      "source": [
        "# 2. Preparing the Dataset"
      ]
    },
    {
      "cell_type": "code",
      "metadata": {
        "id": "HsQqJaPWiH8U"
      },
      "source": [
        "import matplotlib.pyplot as plt\n",
        "\n",
        "from torch.utils import data \n",
        "from torchvision import datasets, transforms"
      ],
      "execution_count": null,
      "outputs": []
    },
    {
      "cell_type": "markdown",
      "metadata": {
        "id": "td-5W8vWrSFD"
      },
      "source": [
        "If you want the optimized model, you can upload the two files \"ot_gan_critic.pt\" and \"ot_gan_gen.pt\". Then replace the two \"None\" in the next cells by the content of each file."
      ]
    },
    {
      "cell_type": "code",
      "metadata": {
        "id": "vTCiHwNUOgIU"
      },
      "source": [
        "class AttrDict(dict):\n",
        "    def __init__(self, *args, **kwargs):\n",
        "        super(AttrDict, self).__init__(*args, **kwargs)\n",
        "        self.__dict__ = self\n",
        "\n",
        "args = AttrDict()\n",
        "args_dict = {'image_size': 32,\n",
        "            'batch_size_train': 64,\n",
        "            'z_dim': 100,\n",
        "            'learning_rate': 0.0003,\n",
        "            'beta1': 0.5,\n",
        "            'beta2': 0.999,\n",
        "            'g2c_ratio': 3,\n",
        "            'n_epochs': 10,\n",
        "            'epsilon': 1.,\n",
        "            'niter': 100,\n",
        "            'log_step': 2,\n",
        "            'checkpoint_time': 1,\n",
        "            'path_weights_generator': None,\n",
        "            'path_weights_critic': None,\n",
        "            'eval_dir': 'OTGAN_eval',\n",
        "            'n_samples': 10\n",
        "            }\n",
        "args.update(args_dict)"
      ],
      "execution_count": null,
      "outputs": []
    },
    {
      "cell_type": "code",
      "metadata": {
        "id": "eKC_6RchDiKf"
      },
      "source": [
        "class DoubleBatchDataset(data.Dataset):\n",
        "    \"\"\"\n",
        "    Extend Torch Dataset class to enable double batch streaming.\n",
        "    \"\"\"\n",
        "    def __init__(self, dataset1, dataset2, transform=None):\n",
        "        self.dataset1 = dataset1\n",
        "        self.dataset2 = dataset2\n",
        "        self.transform = transform\n",
        "\n",
        "    def __len__(self):\n",
        "        return self.dataset1.shape[0]\n",
        "\n",
        "    def __getitem__(self, index):\n",
        "        x, y = self.dataset1[index], self.dataset2[index]\n",
        "        if self.transform:\n",
        "            x = self.transform(x)\n",
        "            y = self.transform(y)\n",
        "        return x, y\n",
        "\n",
        "\n",
        "def MNIST_dataloader(args, double_batch=False):\n",
        "    \"\"\"\n",
        "    Download, preprocess and load MNIST data.\n",
        "    \"\"\"\n",
        "    transform = transforms.Compose([transforms.ToPILImage(),\n",
        "                                    transforms.Resize(args.image_size),\n",
        "                                   transforms.ToTensor()\n",
        "                                   ])\n",
        "    \n",
        "    mnist = datasets.MNIST('/content/OTGAN/MNIST', train=True, download=True)\n",
        "\n",
        "    if double_batch:\n",
        "        batch = mnist.data.unsqueeze(1)\n",
        "        mnist = DoubleBatchDataset(batch, batch, transform)\n",
        "\n",
        "    return data.DataLoader(mnist, batch_size=args.batch_size_train, shuffle=True)"
      ],
      "execution_count": null,
      "outputs": []
    },
    {
      "cell_type": "code",
      "metadata": {
        "colab": {
          "base_uri": "https://localhost:8080/"
        },
        "id": "L-7bSKq3zxg_",
        "outputId": "a6eb5df4-88eb-40cb-a0f1-21863ab6d91a"
      },
      "source": [
        "train_loader_X = MNIST_dataloader(args, double_batch=True)\n",
        "\n",
        "samples = enumerate(train_loader_X)\n",
        "_, (pair1, pair2) = next(samples)\n",
        "\n",
        "# check shapes of samples from Double batch MNIST dataset\n",
        "print(pair1.shape, pair2.shape)\n",
        "\n",
        "# check range of pixel values \n",
        "print(pair1.min(), pair1.max())\n",
        "print(pair2.min(), pair2.max())"
      ],
      "execution_count": null,
      "outputs": [
        {
          "output_type": "stream",
          "text": [
            "torch.Size([64, 1, 32, 32]) torch.Size([64, 1, 32, 32])\n",
            "tensor(0.) tensor(1.)\n",
            "tensor(0.) tensor(1.)\n"
          ],
          "name": "stdout"
        }
      ]
    },
    {
      "cell_type": "code",
      "metadata": {
        "colab": {
          "base_uri": "https://localhost:8080/",
          "height": 278
        },
        "id": "Cn_UJLrrevae",
        "outputId": "ab8b974e-d7ad-447b-b545-e043aac31db9"
      },
      "source": [
        "fig_MNIST = plt.figure()\n",
        "for i in range(6):\n",
        "  plt.subplot(2,3,i+1)\n",
        "  plt.tight_layout()\n",
        "  plt.imshow(pair1[i][0], cmap='gray', interpolation='none')\n",
        "  plt.xticks([])\n",
        "  plt.yticks([])\n",
        "plt.show()"
      ],
      "execution_count": null,
      "outputs": [
        {
          "output_type": "display_data",
          "data": {
            "image/png": "[encoded data removed]",
            "text/plain": [
              "<Figure size 432x288 with 6 Axes>"
            ]
          },
          "metadata": {
            "tags": []
          }
        }
      ]
    },
    {
      "cell_type": "markdown",
      "metadata": {
        "id": "zVOtft-GpNIN"
      },
      "source": [
        "# 3. OT-GAN"
      ]
    },
    {
      "cell_type": "code",
      "metadata": {
        "id": "19wKvljroZpp"
      },
      "source": [
        "import os\n",
        "import time\n",
        "import numpy as np\n",
        "\n",
        "import torch.nn as nn\n",
        "import torch.nn.functional as F\n",
        "import torch.optim as optim\n",
        "from torch.autograd import Variable\n",
        "from torchvision.utils import save_image, make_grid"
      ],
      "execution_count": null,
      "outputs": []
    },
    {
      "cell_type": "markdown",
      "metadata": {
        "id": "_RyBXMJezE2W"
      },
      "source": [
        "## 3.1. Helper functions"
      ]
    },
    {
      "cell_type": "code",
      "metadata": {
        "id": "lfet6JTIBsRp"
      },
      "source": [
        "def print_arguments(opts):\n",
        "    \"\"\"\n",
        "    Print the values of all command-line arguments.\n",
        "    opts: command-line arguments\n",
        "    \"\"\"\n",
        "    print('=' * 80)\n",
        "    print('Command line arguments'.center(80))\n",
        "    print('=' * 80)\n",
        "    for key in opts.__dict__:\n",
        "        if opts.__dict__[key]:\n",
        "            print('{:>30}: {:<30}'.format(key, opts.__dict__[key]))\n",
        "    print('=' * 80)\n",
        "\n",
        "def plot_samples(samples):\n",
        "    n_row, n_col = samples.shape[0], int(samples.shape[0]/2)\n",
        "    image  = make_grid(samples, n_row=1)\n",
        "    np_img = image.numpy()\n",
        "    plt.figure(figsize = (n_row, n_col))\n",
        "    plt.xticks(())\n",
        "    plt.yticks(())\n",
        "    plt.imshow(np.transpose(np_img, (1,2,0)), interpolation='nearest')"
      ],
      "execution_count": null,
      "outputs": []
    },
    {
      "cell_type": "markdown",
      "metadata": {
        "id": "bKg8gPp6vaD4"
      },
      "source": [
        "## 3.2. Building the network"
      ]
    },
    {
      "cell_type": "code",
      "metadata": {
        "id": "KGP9xB_PzXOi"
      },
      "source": [
        "class OTGANGenerator(nn.Module):\n",
        "    \"\"\"\n",
        "    Generator architecture from Salimans et al (2018)\n",
        "    \"\"\"\n",
        "    def __init__(self, input_size, kernel_size=5):\n",
        "        super(OTGANGenerator, self).__init__()\n",
        "\n",
        "        conv_padding_size = (kernel_size - 1) // 2\n",
        "\n",
        "        self.linear   = nn.Linear(input_size, 2*512*8*8)\n",
        "        self.upsample = nn.Upsample(scale_factor=2, mode='nearest')\n",
        "        self.conv1 = nn.Conv2d(512, 2*256, kernel_size, padding=conv_padding_size)\n",
        "        self.conv2 = nn.Conv2d(256, 2*128, kernel_size, padding=conv_padding_size)\n",
        "        self.conv3 = nn.Conv2d(128, 1, kernel_size, padding=conv_padding_size)\n",
        "        self.activ_out = nn.Tanh()\n",
        "\n",
        "    def forward(self, x):\n",
        "\n",
        "        x = self.linear(x)                                          # batch_size x 65536\n",
        "        # GLU activation function\n",
        "        x, l = torch.split(x, x.shape[1]//2, 1)\n",
        "        x *= torch.sigmoid(l)                                       # batch_size x 32768\n",
        "        x = x.view((x.shape[0], 512, 8, 8))                         # batch_size x 512 x 8 x 8\n",
        "        x = self.upsample(x)                                        # batch_size x 512 x 16 x 16\n",
        "        x = self.conv1(x)                                           # batch_size x 512 x 16 x 16\n",
        "        x, l = torch.split(x, x.shape[1]//2, 1)\n",
        "        x *= torch.sigmoid(l)                                       # batch_size x 256 x 16 x 16\n",
        "        x = self.upsample(x)                                        # batch_size x 256 x 32 x 32\n",
        "        x = self.conv2(x)                                           # batch_size x 256 x 32 x 32\n",
        "        x, l = torch.split(x, x.shape[1]//2, 1)\n",
        "        x *= torch.sigmoid(l)                                       # batch_size x 128 x 32 x 32\n",
        "        x = self.activ_out(self.conv3(x))                           # batch_size x 1 x 32 x 32\n",
        "\n",
        "        return x                                                    # batch_size x 1 x 32 x 32\n",
        "\n",
        "\n",
        "class OTGANCritic(nn.Module):\n",
        "    \"\"\"\n",
        "    Critic architecture from Salimans et al (2018)\n",
        "    \"\"\"\n",
        "    def __init__(self, kernel_size=5):\n",
        "        super(OTGANCritic, self).__init__()\n",
        "\n",
        "        conv1_channels = 64\n",
        "        conv_padding_size = (kernel_size - 1) // 2\n",
        "\n",
        "        self.conv1 = nn.Conv2d(1, conv1_channels, kernel_size, padding=conv_padding_size)\n",
        "        self.conv2 = nn.Conv2d(conv1_channels*2, conv1_channels*2, kernel_size, stride=2, padding=conv_padding_size)\n",
        "        self.conv3 = nn.Conv2d(conv1_channels*4, conv1_channels*4, kernel_size, stride=2, padding=conv_padding_size)\n",
        "\n",
        "    def forward(self, x):\n",
        "        x = self.conv1(x)                                           # batch_size x 64 x 32 x 32\n",
        "        # CReLU : https://github.com/pytorch/pytorch/issues/1327\n",
        "        x = torch.cat((F.relu(x), F.relu(-x)), 1)                   # batch_size x 128 x 32 x 32\n",
        "        x = self.conv2(x)                                           # batch_size x 128 x 16 x 16\n",
        "        x = torch.cat((F.relu(x), F.relu(-x)), 1)                   # batch_size x 256 x 16 x 16\n",
        "        x = self.conv3(x)                                           # batch_size x 256 x 8 x 8\n",
        "        x = torch.cat((F.relu(x), F.relu(-x)), 1)                   # batch_size x 512 x 8 x 8\n",
        "        x = nn.Flatten()(x)                                         # batch_size x 32768\n",
        "        x = F.normalize(x, dim=1, p=2)                              # batch_size x 32768\n",
        "\n",
        "        return x                                                    # batch_size x 32768"
      ],
      "execution_count": null,
      "outputs": []
    },
    {
      "cell_type": "code",
      "metadata": {
        "id": "jJ2yqreN113A"
      },
      "source": [
        "class OTGAN():\n",
        "    \"\"\"\n",
        "    OTGAN implementation as described in Salimans et al (2018)\n",
        "    \"\"\"\n",
        "    def __init__(self, dataloader, generator, critic, args):\n",
        "\n",
        "        self.dataloader = dataloader\n",
        "\n",
        "        self.z_dim = args.z_dim\n",
        "        self.lr    = args.learning_rate\n",
        "        self.g2c_ratio = args.g2c_ratio\n",
        "\n",
        "        self.generator = generator\n",
        "        self.critic    = critic\n",
        "\n",
        "    def uniform_sample(self, size):\n",
        "        \"\"\"\n",
        "        Uniform sampling from [-1,1]\n",
        "        \"\"\"\n",
        "        return -2 * torch.rand(size) + 1\n",
        "\n",
        "    def sample_data(self, n_sample):\n",
        "        \"\"\"\n",
        "        Generate synthetic images from random uniform noise.\n",
        "        \"\"\"\n",
        "        u = self.uniform_sample((n_sample, self.z_dim)).cuda()\n",
        "        samples = self.generator(u)\n",
        "        samples = samples.detach().cpu()\n",
        "        return samples\n",
        "\n",
        "    def cost(self, batch_1, batch_2):\n",
        "        \"\"\"\n",
        "        Cosine distance between batch embeddings.\n",
        "        \"\"\"\n",
        "        dot = batch_1 @ batch_2.t()\n",
        "        return 1 - dot\n",
        "\n",
        "    def sinkhorn(self, a, b, C, args):\n",
        "        \"\"\"\n",
        "        Compute OT plans using Sinkhorn algorithm.\n",
        "        \"\"\"\n",
        "        u = torch.ones_like(a).cuda()\n",
        "        v = torch.ones_like(b).cuda()\n",
        "        with torch.no_grad():\n",
        "            K = torch.exp(- C / args.epsilon)\n",
        "            for i in range(args.niter):\n",
        "                u = a / (torch.matmul(K,v) + 1e-8)\n",
        "                v = b / (torch.matmul(K.T,u) + 1e-8)\n",
        "        M = torch.matmul(torch.diag(u), torch.matmul(K, torch.diag(v)))\n",
        "        return M\n",
        "\n",
        "    def train(self, args):\n",
        "        c_optimizer = optim.Adam(self.critic.parameters(), lr=self.lr, betas=(args.beta1, args.beta2))\n",
        "        g_optimizer = optim.Adam(self.generator.parameters(), lr=self.lr, betas=(args.beta1, args.beta2))\n",
        "        for epoch in range(args.n_epochs):\n",
        "            t0 = time.time()\n",
        "            for i, (real_1, real_2) in enumerate(self.dataloader):\n",
        "                batch_size = real_1.shape[0]\n",
        "                \n",
        "                self.critic.zero_grad()\n",
        "                self.generator.zero_grad()\n",
        "    \n",
        "                real_1 = real_1.type(torch.FloatTensor).cuda()\n",
        "                real_2 = real_2.type(torch.FloatTensor).cuda()\n",
        "                \n",
        "                z1 = self.uniform_sample((batch_size, self.z_dim)).cuda()\n",
        "                z2 = self.uniform_sample((batch_size, self.z_dim)).cuda()\n",
        "                fake_1 = self.generator(z1)\n",
        "                fake_2 = self.generator(z2)\n",
        "                \n",
        "                critic_real_1 = self.critic(real_1)\n",
        "                critic_real_2 = self.critic(real_2)\n",
        "                critic_fake_1 = self.critic(fake_1)\n",
        "                critic_fake_2 = self.critic(fake_2)\n",
        "\n",
        "                # Computing costs\n",
        "                costs = torch.zeros((4, 4, batch_size, batch_size)).cuda()\n",
        "                costs[0,1] = self.cost(critic_real_1, critic_real_2)\n",
        "                costs[0,2] = self.cost(critic_real_1, critic_fake_1)\n",
        "                costs[0,3] = self.cost(critic_real_1, critic_fake_2)\n",
        "                costs[1,2] = self.cost(critic_real_2, critic_fake_1)\n",
        "                costs[1,3] = self.cost(critic_real_2, critic_fake_2)\n",
        "                costs[2,3] = self.cost(critic_fake_1, critic_fake_2)\n",
        "\n",
        "                # Computing optimal plans for all costs\n",
        "                a = (torch.ones(batch_size) / batch_size).cuda()\n",
        "                b = (torch.ones(batch_size) / batch_size).cuda()\n",
        "                plans = torch.zeros((4,4, batch_size, batch_size)).cuda()\n",
        "                plans[0,1] = self.sinkhorn(a, b, costs[0,1], args)\n",
        "                plans[0,2] = self.sinkhorn(a, b, costs[0,2], args)\n",
        "                plans[0,3] = self.sinkhorn(a, b, costs[0,3], args)\n",
        "                plans[1,2] = self.sinkhorn(a, b, costs[1,2], args)\n",
        "                plans[1,3] = self.sinkhorn(a, b, costs[1,3], args)\n",
        "                plans[2,3] = self.sinkhorn(a, b, costs[2,3], args) \n",
        "\n",
        "                # Computing losses\n",
        "                losses = torch.zeros((4,4)).cuda()\n",
        "                losses[0,1] = torch.sum(plans[0,1] * costs[0,1])\n",
        "                losses[0,2] = torch.sum(plans[0,2] * costs[0,2])\n",
        "                losses[0,3] = torch.sum(plans[0,3] * costs[0,3])\n",
        "                losses[1,2] = torch.sum(plans[1,2] * costs[1,2])\n",
        "                losses[1,3] = torch.sum(plans[1,3] * costs[1,3])\n",
        "                losses[2,3] = torch.sum(plans[2,3] * costs[2,3])    \n",
        "                \n",
        "                loss = (losses[0,2] + losses[0,3] + losses[1,2] + losses[1,3] - 2 * losses[0,1] - 2 * losses[2,3])                            \n",
        "                loss.backward()\n",
        "\n",
        "                if i+1 % self.g2c_ratio == 0:\n",
        "                    # Update critic once every 'g2c_ratio' updates\n",
        "                    c_optimizer.step()\n",
        "                else:\n",
        "                    g_optimizer.step()\n",
        "   \n",
        "            if epoch % args.log_step == 0 or epoch+1 == args.n_epochs:\n",
        "                train_loss = loss.detach().cpu().numpy()\n",
        "                print(\"Epoch %s: loss = %s;  time = %s\" %(epoch, train_loss, time.time() - t0))\n",
        "                \n",
        "            if epoch % args.log_step == 0 or epoch+1 == args.n_epochs:\n",
        "                samples = self.sample_data(args.n_samples)\n",
        "                if not os.path.isdir(args.eval_dir):\n",
        "                    os.makedirs(args.eval_dir)\n",
        "                save_image(samples, args.eval_dir+'/eval_sample.png', nrow=1)\n",
        "\n",
        "            if args.checkpoint_time:\n",
        "                torch.save(self.generator.state_dict(), '/content/ot_gan_gen.pt')\n",
        "                torch.save(self.critic.state_dict(), '/content/ot_gan_critic.pt')"
      ],
      "execution_count": null,
      "outputs": []
    },
    {
      "cell_type": "markdown",
      "metadata": {
        "id": "7sCTUUNbktGt"
      },
      "source": [
        "## 3.3. Training and Evaluation functions"
      ]
    },
    {
      "cell_type": "code",
      "metadata": {
        "id": "bBiMwLCB_G3-"
      },
      "source": [
        "def train(args, resume_training=False):\n",
        "    # Get MNIST data as Torch dataloader\n",
        "    mnist_dataloader = MNIST_dataloader(args, train=True, double_batch=True)\n",
        "    otgan_generator = OTGANGenerator(input_size=args.z_dim).cuda()\n",
        "    otgan_critic    = OTGANCritic().cuda()\n",
        "    if resume_training:\n",
        "        # Load pretrained weights\n",
        "        try:\n",
        "            otgan_generator.load_state_dict(torch.load(args.path_weights_generator))\n",
        "            otgan_critic.load_state_dict(torch.load(args.path_weights_critic))\n",
        "        except:\n",
        "            print('Please define checkpoints path in command_line arguments.')\n",
        "\n",
        "    otgan = OTGAN(mnist_dataloader, otgan_generator, otgan_critic, args)\n",
        "    try:\n",
        "        print('Start Training ...')\n",
        "        otgan.train(args)\n",
        "    except KeyboardInterrupt:\n",
        "        print('Exiting early from training.')\n",
        "        return otgan\n",
        "    \n",
        "    return otgan\n",
        "\n",
        "def test(args):\n",
        "    # Load previously trained model weights\n",
        "    otgan_generator = OTGANGenerator(input_size=args.z_dim).cuda()\n",
        "    otgan_generator.load_state_dict(torch.load(args.path_weights_generator))\n",
        "    otgan = OTGAN(dataloader=None, generator=otgan_generator, critic=None, args=args)\n",
        "    # Sample data produced by the OT-GAN generator\n",
        "    samples = otgan.sample_data(args.n_samples)\n",
        "    plot_samples(samples)"
      ],
      "execution_count": null,
      "outputs": []
    },
    {
      "cell_type": "markdown",
      "metadata": {
        "id": "_fQrTajBeumS"
      },
      "source": [
        "## 3.4. Run OT-GAN"
      ]
    },
    {
      "cell_type": "code",
      "metadata": {
        "id": "edAq92doG4us",
        "colab": {
          "base_uri": "https://localhost:8080/"
        },
        "outputId": "2c9d7109-a8d5-47a7-b6b4-f7f5568ed40a"
      },
      "source": [
        "seed = 11\n",
        "# Set random seed manually for reproducibility\n",
        "np.random.seed(seed)\n",
        "torch.manual_seed(seed)\n",
        "if torch.cuda.is_available():\n",
        "    torch.cuda.manual_seed(seed)\n",
        "# Set and print command line arguments\n",
        "args.update(args_dict)\n",
        "print_arguments(args)"
      ],
      "execution_count": null,
      "outputs": [
        {
          "output_type": "stream",
          "text": [
            "================================================================================\n",
            "                             Command line arguments                             \n",
            "================================================================================\n",
            "                    image_size: 32                            \n",
            "              batch_size_train: 64                            \n",
            "               batch_size_test: 1000                          \n",
            "                         z_dim: 100                           \n",
            "                 learning_rate: 0.0003                        \n",
            "                         beta1: 0.5                           \n",
            "                         beta2: 0.999                         \n",
            "                      n_epochs: 10                            \n",
            "                       epsilon: 1.0                           \n",
            "                         niter: 100                           \n",
            "                      log_step: 2                             \n",
            "               checkpoint_time: 1                             \n",
            "        path_weights_generator: ot_gan_gen.pt                 \n",
            "                      eval_dir: OTGAN_eval                    \n",
            "                     n_samples: 10                            \n",
            "================================================================================\n"
          ],
          "name": "stdout"
        }
      ]
    },
    {
      "cell_type": "markdown",
      "metadata": {
        "id": "RcPYDMBQgdad"
      },
      "source": [
        "### Train OT-GAN"
      ]
    },
    {
      "cell_type": "markdown",
      "metadata": {
        "id": "alNnjfdjqBft"
      },
      "source": [
        "The training takes more than 1 hour because of the double optimization problem. If you want to run the training cells, delete the \"#\" before the line \"otgan = train(args, resume_training)\""
      ]
    },
    {
      "cell_type": "code",
      "metadata": {
        "colab": {
          "base_uri": "https://localhost:8080/"
        },
        "id": "iWYGUX33_9i2",
        "outputId": "878fe8b5-5f64-4992-d50f-caf91989b713"
      },
      "source": [
        "#resume_training = True \n",
        "#otgan = train(args, resume_training)"
      ],
      "execution_count": null,
      "outputs": [
        {
          "output_type": "stream",
          "text": [
            "Start Training ...\n",
            "Epoch 0: loss = 0.035706818;  time = 362.2677707672119\n",
            "Epoch 2: loss = 0.03380239;  time = 371.6966679096222\n",
            "Epoch 4: loss = 0.029173732;  time = 371.093341588974\n",
            "Epoch 6: loss = 0.01780963;  time = 371.3102023601532\n",
            "Epoch 8: loss = 0.012520701;  time = 371.5137104988098\n",
            "Epoch 9: loss = 0.019110113;  time = 371.76067066192627\n"
          ],
          "name": "stdout"
        }
      ]
    },
    {
      "cell_type": "markdown",
      "metadata": {
        "id": "SCzj14QkgkPn"
      },
      "source": [
        "### Test OT-GAN"
      ]
    },
    {
      "cell_type": "code",
      "metadata": {
        "id": "H2Blr841S-mm",
        "colab": {
          "base_uri": "https://localhost:8080/",
          "height": 517
        },
        "outputId": "f05f6e2d-4a8b-4c32-a420-0f6c7069458a"
      },
      "source": [
        "# Set and print command line arguments\n",
        "args_dict['path_weights_generator'] = '/content/ot_gan_gen.pt'\n",
        "args.update(args_dict)\n",
        "print_arguments(args)\n",
        "# Test OT-GAN\n",
        "test(args)"
      ],
      "execution_count": null,
      "outputs": [
        {
          "output_type": "stream",
          "text": [
            "Clipping input data to the valid range for imshow with RGB data ([0..1] for floats or [0..255] for integers).\n"
          ],
          "name": "stderr"
        },
        {
          "output_type": "stream",
          "text": [
            "================================================================================\n",
            "                             Command line arguments                             \n",
            "================================================================================\n",
            "                    image_size: 32                            \n",
            "              batch_size_train: 64                            \n",
            "               batch_size_test: 1000                          \n",
            "                         z_dim: 100                           \n",
            "                 learning_rate: 0.0003                        \n",
            "                         beta1: 0.5                           \n",
            "                         beta2: 0.999                         \n",
            "                      n_epochs: 10                            \n",
            "                       epsilon: 1.0                           \n",
            "                         niter: 100                           \n",
            "                      log_step: 2                             \n",
            "               checkpoint_time: 1                             \n",
            "        path_weights_generator: /content/ot_gan_gen.pt        \n",
            "                      eval_dir: OTGAN_eval                    \n",
            "                     n_samples: 10                            \n",
            "================================================================================\n"
          ],
          "name": "stdout"
        },
        {
          "output_type": "display_data",
          "data": {
            "image/png": "[encoded data removed]",
            "text/plain": [
              "<Figure size 720x360 with 1 Axes>"
            ]
          },
          "metadata": {
            "tags": []
          }
        }
      ]
    },
    {
      "cell_type": "code",
      "metadata": {
        "id": "0AM_MAvShaNc"
      },
      "source": [
        ""
      ],
      "execution_count": null,
      "outputs": []
    }
  ]
}
